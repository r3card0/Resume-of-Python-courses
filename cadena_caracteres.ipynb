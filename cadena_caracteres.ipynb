{
 "cells": [
  {
   "cell_type": "markdown",
   "metadata": {},
   "source": [
    "El modulo upper, sirve para convertir de un texto en minúsculas a un texto en mayúsculas.\n",
    "El modo correcto de ejecutarlo es: \n",
    "- nombre_de_la_variable_que_contiene_texto.upper( )\n",
    "\n",
    "El modulo capitalize, sirve para convertir la primera letra de un texto en mayúscula.\n",
    "El modo correcto de ejecutarlo es: \n",
    "- nombre_de_la_variable_que_contiene_texto.capitalize( )\n",
    "\n",
    "Para guardarlo en memoria, se ejecuta: nombre = nombre.capitalize()\n",
    "\n",
    "¿Cómo eliminar espacios entre caracteres?\n",
    "\n",
    "El modulo strip sirve para eliminar los espacios basura que están al inicio o al final de la línea de caracteres.\n",
    "\n",
    "Y se ejecuta: \n",
    "- nombre.strip( )\n",
    "\n",
    "El módulo lower sirve para cambiar texto en mayúscula a texto en minúscula.\n",
    "Y se ejecuta: \n",
    "- variable.lower( )\n",
    "\n",
    "El modulo replace, sirve para reemplazar caracteres. Por ejemplo, si la variable nombre = Samantha y se quieren cambiar las letras “a” por la letra “e”, se puede ejecutar el siguiente comando:\n",
    "\n",
    "- nombre = nombre.replace(‘a’, ‘e’)\n"
   ]
  },
  {
   "cell_type": "code",
   "execution_count": null,
   "metadata": {},
   "outputs": [],
   "source": []
  }
 ],
 "metadata": {
  "language_info": {
   "name": "python"
  },
  "orig_nbformat": 4
 },
 "nbformat": 4,
 "nbformat_minor": 2
}
