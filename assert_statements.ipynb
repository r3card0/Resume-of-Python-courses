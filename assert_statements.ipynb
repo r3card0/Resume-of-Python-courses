{
 "cells": [
  {
   "cell_type": "markdown",
   "metadata": {},
   "source": [
    "# Assert Statement es una afirmación\n",
    "Son expresiones combinando variables con operadores\n",
    "\n"
   ]
  },
  {
   "cell_type": "markdown",
   "metadata": {},
   "source": [
    "## Donde va ubicada\n",
    "![assert](images/assert.png)"
   ]
  },
  {
   "cell_type": "markdown",
   "metadata": {},
   "source": [
    "## Estructura\n",
    "![assert2](images/assert2.png)\n",
    "\n",
    "Y dice algo mas o menos así:\n",
    "\n",
    "### Afirmo que, está condición es verdadera, si no imprime este mensaje de error"
   ]
  },
  {
   "cell_type": "code",
   "execution_count": 1,
   "metadata": {},
   "outputs": [
    {
     "name": "stdout",
     "output_type": "stream",
     "text": [
      "True\n"
     ]
    }
   ],
   "source": [
    "def palindromo(string):\n",
    "    assert len(string) > 0, \"El campo debe contener \"\n",
    "    return string == string[::-1]\n",
    "\n",
    "print(palindromo(\" \"))"
   ]
  }
 ],
 "metadata": {
  "interpreter": {
   "hash": "f37bd1750dcb164f2cce01055d925e3620f78db8b687d3ba5fba2d1486c4218f"
  },
  "kernelspec": {
   "display_name": "Python 3.10.0 64-bit ('venv_r': venv)",
   "language": "python",
   "name": "python3"
  },
  "language_info": {
   "codemirror_mode": {
    "name": "ipython",
    "version": 3
   },
   "file_extension": ".py",
   "mimetype": "text/x-python",
   "name": "python",
   "nbconvert_exporter": "python",
   "pygments_lexer": "ipython3",
   "version": "3.10.0"
  },
  "orig_nbformat": 4
 },
 "nbformat": 4,
 "nbformat_minor": 2
}
