{
 "cells": [
  {
   "cell_type": "markdown",
   "metadata": {},
   "source": [
    "# Closures"
   ]
  },
  {
   "cell_type": "markdown",
   "metadata": {},
   "source": [
    "## ¿Qué son?\n",
    "\n",
    "Un closure es una estructura de código elegante en Python donde una nested function recuerda un valor de una variable de un scope superior, aún cuando la funcion del scope superior desaparezca o sea borrada, y la función de scope superior ejecuta o retorna a la nested function."
   ]
  },
  {
   "cell_type": "markdown",
   "metadata": {},
   "source": [
    "## ¿Dónde se usan?\n",
    "\n",
    "1. En una clase corta. Una clase que sólo tenga un método\n",
    "2) Cuando se trabaja con decoradores \n",
    "\n",
    "\n",
    "[closure](https://www.programiz.com/python-programming/closure)"
   ]
  },
  {
   "cell_type": "code",
   "execution_count": 3,
   "metadata": {},
   "outputs": [
    {
     "name": "stdout",
     "output_type": "stream",
     "text": [
      "hola\n"
     ]
    }
   ],
   "source": [
    "def print_msg(msg):             # outer enclosing function\n",
    "    \n",
    "    def printer():              # nested function\n",
    "        print(msg)\n",
    "\n",
    "    return printer              # return itself\n",
    "\n",
    "variable = print_msg(\"hola\")    # se asigna la función a una variable\n",
    "variable()                      # -> la variable toma la forma de la función\n"
   ]
  },
  {
   "cell_type": "markdown",
   "metadata": {},
   "source": [
    "### When do we have closures?\n",
    "As seen from the above example, we have a closure in Python when a nested function references a value in its enclosing scope.\n",
    "\n",
    "The criteria that must be met to create closure in Python are summarized in the following points.\n",
    "\n",
    "- We must have a nested function (function inside a function).\n",
    "- The nested function must refer to a value defined in the enclosing function.\n",
    "- The enclosing function must return the nested function."
   ]
  },
  {
   "cell_type": "markdown",
   "metadata": {},
   "source": [
    "### When to use closures?\n",
    "So what are closures good for?\n",
    "\n",
    "Closures *can avoid the use of global values* and provides some form of data hiding. It can also provide an object oriented solution to the problem.\n",
    "\n",
    "When there are few methods (one method in most cases) to be implemented in a class, closures can provide an alternate and more elegant solution. But when the number of attributes and methods get larger, it's better to implement a class."
   ]
  },
  {
   "cell_type": "code",
   "execution_count": 8,
   "metadata": {},
   "outputs": [
    {
     "name": "stdout",
     "output_type": "stream",
     "text": [
      "20\n"
     ]
    }
   ],
   "source": [
    "def make_multiplier(x):\n",
    "\n",
    "    def multiplier(y):\n",
    "        return x * y\n",
    "    \n",
    "    return multiplier\n",
    "\n",
    "resultado = make_multiplier(5) # le asigno un valor\n",
    "print(resultado(4))"
   ]
  },
  {
   "cell_type": "code",
   "execution_count": 12,
   "metadata": {},
   "outputs": [
    {
     "name": "stdout",
     "output_type": "stream",
     "text": [
      "ExámenExámenExámen\n"
     ]
    }
   ],
   "source": [
    "def make_repeater_of(n):\n",
    "    def repeater(string):\n",
    "        assert type(string) == str, \"Solo texto\"\n",
    "        return string * n\n",
    "    return repeater\n",
    "\n",
    "def ejecutar():\n",
    "    repeat_3 = make_repeater_of(3)\n",
    "    print(repeat_3(\"Exámen\"))\n",
    "\n",
    "if __name__ == \"__main__\":\n",
    "    ejecutar()"
   ]
  }
 ],
 "metadata": {
  "interpreter": {
   "hash": "f37bd1750dcb164f2cce01055d925e3620f78db8b687d3ba5fba2d1486c4218f"
  },
  "kernelspec": {
   "display_name": "Python 3.10.0 64-bit ('venv_r': venv)",
   "language": "python",
   "name": "python3"
  },
  "language_info": {
   "codemirror_mode": {
    "name": "ipython",
    "version": 3
   },
   "file_extension": ".py",
   "mimetype": "text/x-python",
   "name": "python",
   "nbconvert_exporter": "python",
   "pygments_lexer": "ipython3",
   "version": "3.10.0"
  },
  "orig_nbformat": 4
 },
 "nbformat": 4,
 "nbformat_minor": 2
}
