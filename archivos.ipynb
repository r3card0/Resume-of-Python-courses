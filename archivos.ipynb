{
 "cells": [
  {
   "cell_type": "markdown",
   "metadata": {},
   "source": [
    "# Archivos de texto"
   ]
  },
  {
   "cell_type": "markdown",
   "metadata": {},
   "source": [
    "![archivos](images/archivos.png)"
   ]
  },
  {
   "cell_type": "markdown",
   "metadata": {},
   "source": [
    "![modos](images/modos.png)"
   ]
  },
  {
   "cell_type": "code",
   "execution_count": null,
   "metadata": {},
   "outputs": [],
   "source": [
    "with open(\"ruta del archivo\",\"modo de apertura->r,w,a\") as f:"
   ]
  },
  {
   "cell_type": "markdown",
   "metadata": {},
   "source": [
    "## with\n",
    "El comando with es un manejador contextual que ayuda a proteger los arhivos consultados si el sistema falla y cierra inesperadamente. "
   ]
  },
  {
   "cell_type": "markdown",
   "metadata": {},
   "source": [
    "## open()\n",
    "\n",
    "Open es una función que se encarga de abrir archivos y puede recibir varios parámetros. Como mínimo debe recibir 2: \n",
    "\n",
    "1. Ruta del archivo\n",
    "2. Modo de apertura\n",
    "\n",
    "### open(\"ruta/del/archivo\",\"modo de apertura\") \n"
   ]
  },
  {
   "cell_type": "markdown",
   "metadata": {},
   "source": [
    "## Sintaxis\n",
    "\n",
    "1. with -> para \n",
    "2. open() -> dos parámetros como mínimo: ruta del archivo, modo de apertura\n",
    "3. as -> asignar el archivo a una variable\n",
    "4. variable\n",
    "5. \":\" -> terminar con \":\"\n",
    "\n",
    "    ### with open(\"ruta/del/archivo\", \"r\") as f:"
   ]
  }
 ],
 "metadata": {
  "language_info": {
   "name": "python"
  },
  "orig_nbformat": 4
 },
 "nbformat": 4,
 "nbformat_minor": 2
}
